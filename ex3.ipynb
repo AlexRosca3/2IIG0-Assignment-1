{
 "cells": [
  {
   "cell_type": "code",
   "execution_count": 11,
   "id": "d054dd16",
   "metadata": {},
   "outputs": [
    {
     "name": "stdout",
     "output_type": "stream",
     "text": [
      "3 1        -0.29599999999999993\n",
      "-2 2        -0.13300000000000003\n",
      "2 2        -0.44499999999999995\n",
      "-1.5 2        -0.17200000000000001\n",
      "1.5 3.5        -0.7464999999999999\n",
      "-2.5 2.5        -0.2075\n",
      "-2 0        0.321\n",
      "2 2.5        -0.5585\n"
     ]
    }
   ],
   "source": [
    "#decision boundary\n",
    "x1 = [3, -2, 2, -1.5, 1.5, -2.5, -2, 2]\n",
    "x2 = [1, 2, 2, 2, 3.5, 2.5, 0, 2.5]\n",
    "ypr = [0, 1, 0, 1, 0, 1, 1, 0]\n",
    "\n",
    "for i in range (0, len(x1)):\n",
    "    y = (0 - 0.078) * x1[i] - 0.227 * x2[i] + 0.165\n",
    "    print(x1[i], x2[i], \"      \", y)\n",
    "#y = -0.078 * x1 - 0.227 * x2 + 0.165"
   ]
  }
 ],
 "metadata": {
  "kernelspec": {
   "display_name": "Python 3 (ipykernel)",
   "language": "python",
   "name": "python3"
  },
  "language_info": {
   "codemirror_mode": {
    "name": "ipython",
    "version": 3
   },
   "file_extension": ".py",
   "mimetype": "text/x-python",
   "name": "python",
   "nbconvert_exporter": "python",
   "pygments_lexer": "ipython3",
   "version": "3.11.0"
  }
 },
 "nbformat": 4,
 "nbformat_minor": 5
}
